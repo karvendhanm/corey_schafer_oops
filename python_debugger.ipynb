{
 "cells": [
  {
   "cell_type": "code",
   "execution_count": null,
   "metadata": {
    "ExecuteTime": {
     "start_time": "2020-01-02T22:15:15.782Z"
    }
   },
   "outputs": [
    {
     "name": "stdout",
     "output_type": "stream",
     "text": [
      "--Return--\n",
      "> <ipython-input-2-b169369b8a40>(10)<module>()->None\n",
      "-> pdb.set_trace()\n",
      "(Pdb) doubleval\n",
      "<function doubleval at 0x000001D69B05CBF8>\n",
      "(Pdb) n\n",
      "> c:\\anaconda_udacity\\anaconda3\\lib\\site-packages\\ipython\\core\\interactiveshell.py(3329)run_code()\n",
      "-> sys.excepthook = old_excepthook\n",
      "(Pdb) values\n",
      "*** NameError: name 'values' is not defined\n",
      "(Pdb) n\n",
      "> c:\\anaconda_udacity\\anaconda3\\lib\\site-packages\\ipython\\core\\interactiveshell.py(3345)run_code()\n",
      "-> outflag = False\n",
      "(Pdb) values\n",
      "*** NameError: name 'values' is not defined\n",
      "(Pdb) s\n",
      "> c:\\anaconda_udacity\\anaconda3\\lib\\site-packages\\ipython\\core\\interactiveshell.py(3346)run_code()\n",
      "-> return outflag\n",
      "(Pdb) values\n",
      "*** NameError: name 'values' is not defined\n"
     ]
    }
   ],
   "source": [
    "# pdb debugger doesn't seem to work well here.\n",
    "import pdb\n",
    "\n",
    "\n",
    "def doubleval(argsum, val):\n",
    "    argsum = 0\n",
    "    newval = argsum+val\n",
    "    return newval\n",
    "\n",
    "\n",
    "pdb.set_trace()\n",
    "\n",
    "values = [1, 2, 3, 4, 5, 6, 7, 8, 9, 10]\n",
    "\n",
    "mysum=0\n",
    "\n",
    "for val in values:\n",
    "    mysum = doubleval(mysum, val)\n",
    "\n",
    "print(mysum)"
   ]
  }
 ],
 "metadata": {
  "hide_input": false,
  "kernelspec": {
   "display_name": "Python 3",
   "language": "python",
   "name": "python3"
  },
  "language_info": {
   "codemirror_mode": {
    "name": "ipython",
    "version": 3
   },
   "file_extension": ".py",
   "mimetype": "text/x-python",
   "name": "python",
   "nbconvert_exporter": "python",
   "pygments_lexer": "ipython3",
   "version": "3.6.8"
  },
  "toc": {
   "base_numbering": 1,
   "nav_menu": {},
   "number_sections": true,
   "sideBar": true,
   "skip_h1_title": false,
   "title_cell": "Table of Contents",
   "title_sidebar": "Contents",
   "toc_cell": false,
   "toc_position": {},
   "toc_section_display": true,
   "toc_window_display": false
  },
  "varInspector": {
   "cols": {
    "lenName": 16,
    "lenType": 16,
    "lenVar": 40
   },
   "kernels_config": {
    "python": {
     "delete_cmd_postfix": "",
     "delete_cmd_prefix": "del ",
     "library": "var_list.py",
     "varRefreshCmd": "print(var_dic_list())"
    },
    "r": {
     "delete_cmd_postfix": ") ",
     "delete_cmd_prefix": "rm(",
     "library": "var_list.r",
     "varRefreshCmd": "cat(var_dic_list()) "
    }
   },
   "types_to_exclude": [
    "module",
    "function",
    "builtin_function_or_method",
    "instance",
    "_Feature"
   ],
   "window_display": false
  }
 },
 "nbformat": 4,
 "nbformat_minor": 2
}
